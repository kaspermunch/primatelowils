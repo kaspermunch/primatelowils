{
 "cells": [
  {
   "cell_type": "code",
   "execution_count": 1,
   "id": "7c83c9f1-47d9-460b-ae45-a59de6bd0996",
   "metadata": {},
   "outputs": [
    {
     "name": "stdout",
     "output_type": "stream",
     "text": [
      "env: http_proxy=http://proxyserv:3128\n",
      "env: https_proxy=http://proxyserv:3128\n"
     ]
    }
   ],
   "source": [
    "%matplotlib inline\n",
    "\n",
    "%env http_proxy=http://proxyserv:3128\n",
    "%env https_proxy=http://proxyserv:3128\n",
    "\n",
    "import os, re\n",
    "import numpy as np\n",
    "import pandas as pd\n",
    "from pandas import DataFrame, Series\n",
    "import warnings\n",
    "from scipy import signal, stats\n",
    "from statsmodels.nonparametric.smoothers_lowess import lowess\n",
    "from sklearn.decomposition import PCA\n",
    "\n",
    "# Make inline plots vector graphics instead of raster graphics\n",
    "from matplotlib_inline.backend_inline import set_matplotlib_formats\n",
    "set_matplotlib_formats('retina', 'png')\n",
    "#set_matplotlib_formats('pdf', 'svg')\n",
    "\n",
    "import matplotlib\n",
    "import matplotlib.pyplot as plt\n",
    "from matplotlib.colors import ListedColormap\n",
    "from matplotlib.patches import Rectangle\n",
    "from matplotlib.lines import Line2D\n",
    "\n",
    "#matplotlib.rcParams['figure.figsize'] = (20.0, 10.0)\n",
    "\n",
    "import geneinfo as gi\n",
    "gi.email('kaspermunch@birc.au.dk')\n",
    "\n",
    "import seaborn as sns\n",
    "sns.set() # sets seaborn default \"prettyness:\n",
    "sns.set_style(\"white\")\n",
    "sns.set_context(\"notebook\")"
   ]
  },
  {
   "cell_type": "code",
   "execution_count": 198,
   "id": "999c9596-1782-4819-9aea-444331640557",
   "metadata": {},
   "outputs": [
    {
     "data": {
      "text/html": [
       "<div>\n",
       "<style scoped>\n",
       "    .dataframe tbody tr th:only-of-type {\n",
       "        vertical-align: middle;\n",
       "    }\n",
       "\n",
       "    .dataframe tbody tr th {\n",
       "        vertical-align: top;\n",
       "    }\n",
       "\n",
       "    .dataframe thead th {\n",
       "        text-align: right;\n",
       "    }\n",
       "</style>\n",
       "<table border=\"1\" class=\"dataframe\">\n",
       "  <thead>\n",
       "    <tr style=\"text-align: right;\">\n",
       "      <th></th>\n",
       "      <th>position</th>\n",
       "      <th>V0</th>\n",
       "      <th>V1</th>\n",
       "      <th>V2</th>\n",
       "      <th>V3</th>\n",
       "      <th>prop_ils</th>\n",
       "      <th>trio</th>\n",
       "      <th>start</th>\n",
       "      <th>end</th>\n",
       "    </tr>\n",
       "  </thead>\n",
       "  <tbody>\n",
       "    <tr>\n",
       "      <th>0</th>\n",
       "      <td>200000</td>\n",
       "      <td>0</td>\n",
       "      <td>1055</td>\n",
       "      <td>0</td>\n",
       "      <td>1232</td>\n",
       "      <td>0.538697</td>\n",
       "      <td>AOTNAN_SAGMID_CEBALB_HOMSAP</td>\n",
       "      <td>200000</td>\n",
       "      <td>300000</td>\n",
       "    </tr>\n",
       "    <tr>\n",
       "      <th>1</th>\n",
       "      <td>300000</td>\n",
       "      <td>437</td>\n",
       "      <td>4828</td>\n",
       "      <td>5321</td>\n",
       "      <td>7401</td>\n",
       "      <td>0.707289</td>\n",
       "      <td>AOTNAN_SAGMID_CEBALB_HOMSAP</td>\n",
       "      <td>300000</td>\n",
       "      <td>400000</td>\n",
       "    </tr>\n",
       "    <tr>\n",
       "      <th>2</th>\n",
       "      <td>400000</td>\n",
       "      <td>30</td>\n",
       "      <td>824</td>\n",
       "      <td>1047</td>\n",
       "      <td>719</td>\n",
       "      <td>0.674046</td>\n",
       "      <td>AOTNAN_SAGMID_CEBALB_HOMSAP</td>\n",
       "      <td>400000</td>\n",
       "      <td>500000</td>\n",
       "    </tr>\n",
       "    <tr>\n",
       "      <th>3</th>\n",
       "      <td>600000</td>\n",
       "      <td>1122</td>\n",
       "      <td>2330</td>\n",
       "      <td>4314</td>\n",
       "      <td>2634</td>\n",
       "      <td>0.668077</td>\n",
       "      <td>AOTNAN_SAGMID_CEBALB_HOMSAP</td>\n",
       "      <td>600000</td>\n",
       "      <td>700000</td>\n",
       "    </tr>\n",
       "    <tr>\n",
       "      <th>4</th>\n",
       "      <td>800000</td>\n",
       "      <td>0</td>\n",
       "      <td>553</td>\n",
       "      <td>492</td>\n",
       "      <td>680</td>\n",
       "      <td>0.679420</td>\n",
       "      <td>AOTNAN_SAGMID_CEBALB_HOMSAP</td>\n",
       "      <td>800000</td>\n",
       "      <td>900000</td>\n",
       "    </tr>\n",
       "  </tbody>\n",
       "</table>\n",
       "</div>"
      ],
      "text/plain": [
       "   position    V0    V1    V2    V3  prop_ils                         trio  \\\n",
       "0    200000     0  1055     0  1232  0.538697  AOTNAN_SAGMID_CEBALB_HOMSAP   \n",
       "1    300000   437  4828  5321  7401  0.707289  AOTNAN_SAGMID_CEBALB_HOMSAP   \n",
       "2    400000    30   824  1047   719  0.674046  AOTNAN_SAGMID_CEBALB_HOMSAP   \n",
       "3    600000  1122  2330  4314  2634  0.668077  AOTNAN_SAGMID_CEBALB_HOMSAP   \n",
       "4    800000     0   553   492   680  0.679420  AOTNAN_SAGMID_CEBALB_HOMSAP   \n",
       "\n",
       "    start     end  \n",
       "0  200000  300000  \n",
       "1  300000  400000  \n",
       "2  400000  500000  \n",
       "3  600000  700000  \n",
       "4  800000  900000  "
      ]
     },
     "execution_count": 198,
     "metadata": {},
     "output_type": "execute_result"
    }
   ],
   "source": [
    "csv_files = ! ls ../info_asym/*chrX.csv \n",
    "\n",
    "df_list = []\n",
    "for csv_file in csv_files:\n",
    "    trio = re.search('(.*)_chr\\S.csv', os.path.basename(csv_file)).group(1)\n",
    "    df = pd.read_csv(csv_file)\n",
    "    df['prop_ils'] = (df.V2 +  df.V3) / (df.V0 +  df.V1 + df.V2 +  df.V3)\n",
    "    df['trio'] = trio\n",
    "    df['start'] = df['position']\n",
    "    df['end'] = df['position'] + 100000\n",
    "    df_list.append(df)\n",
    "all_ils_windows = pd.concat(df_list)\n",
    "all_ils_windows.head()"
   ]
  },
  {
   "cell_type": "code",
   "execution_count": 205,
   "id": "4ec61a1b-4c1a-461f-a490-a3497cb868db",
   "metadata": {},
   "outputs": [
    {
     "data": {
      "text/plain": [
       "332"
      ]
     },
     "execution_count": 205,
     "metadata": {},
     "output_type": "execute_result"
    }
   ],
   "source": [
    "ils_windows = all_ils_windows.groupby('trio').filter(lambda df: (df.prop_ils.mean() > 0.1) & (df.prop_ils.mean() < 0.4))\n",
    "ils_windows.trio.unique()\n",
    "\n",
    "max_quantile = 0.05\n",
    "min_span = 2\n",
    "\n",
    "# ils_windows['low_ils'] = ils_windows.groupby('trio').prop_ils.apply(lambda x: x <= x.quantile(max_quantile))\n",
    "ils_windows['low_ils'] = ils_windows.groupby('trio').prop_ils.apply(lambda x: x <= 0.1 * x.mean())\n",
    "# ils_windows['low_ils'] = ils_windows.groupby('trio').prop_ils.apply(lambda x: x <= 0.05)\n",
    "\n",
    "# ils_windows['low_ils'] = ils_windows.prop_ils <= 0.1\n",
    "\n",
    "runs = (ils_windows.low_ils != ils_windows.low_ils.shift(1)).cumsum()\n",
    "\n",
    "counts_df = (ils_windows\n",
    "             .groupby(runs)\n",
    "           .filter(lambda df: df.shape[0] >= min_span and df.low_ils.mean() == 1)\n",
    "           .groupby(['start', 'end'])\n",
    "           .size()\n",
    "           .to_frame('nrtrios')\n",
    "           .reset_index()\n",
    "          )\n",
    "counts_df.shape[0]\n",
    "#counts_df.head()"
   ]
  },
  {
   "cell_type": "code",
   "execution_count": 206,
   "id": "4ac0c81f-fc30-4d1f-a9cd-913fc05a3a97",
   "metadata": {},
   "outputs": [],
   "source": [
    "#ils_windows.groupby('trio').prop_ils.mean()"
   ]
  },
  {
   "cell_type": "code",
   "execution_count": 207,
   "id": "9b631136-2108-414b-a7a4-6640a3a3229f",
   "metadata": {},
   "outputs": [],
   "source": [
    "#ils_windows.groupby('trio').prop_ils.agg(lambda x: x.quantile(0.05))"
   ]
  },
  {
   "cell_type": "code",
   "execution_count": 208,
   "id": "012f7a67-2ba5-483d-bcd1-540687cc72f6",
   "metadata": {},
   "outputs": [],
   "source": [
    "counts_df = ils_windows[['start', 'end']].merge(counts_df, how='left')\n",
    "counts_df['nrtrios'] = counts_df.nrtrios.replace(np.nan, 0)"
   ]
  },
  {
   "cell_type": "code",
   "execution_count": 209,
   "id": "871396c9-163d-4af2-9807-db8186e8a3f1",
   "metadata": {},
   "outputs": [],
   "source": [
    "%matplotlib widget"
   ]
  },
  {
   "cell_type": "code",
   "execution_count": 210,
   "id": "54b92598-f75f-440b-9a3f-107d5a6ba311",
   "metadata": {},
   "outputs": [
    {
     "data": {
      "application/vnd.jupyter.widget-view+json": {
       "model_id": "bb3088a81ee44f89a91a2ffe3ce8e416",
       "version_major": 2,
       "version_minor": 0
      },
      "image/png": "[encoded data removed]",
      "text/html": [
       "\n",
       "            <div style=\"display: inline-block;\">\n",
       "                <div class=\"jupyter-widgets widget-label\" style=\"text-align: center;\">\n",
       "                    Figure\n",
       "                </div>\n",
       "                <img src='data:image/png;base64,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' width=864.0/>\n",
       "            </div>\n",
       "        "
      ],
      "text/plain": [
       "Canvas(toolbar=Toolbar(toolitems=[('Home', 'Reset original view', 'home', 'home'), ('Back', 'Back to previous …"
      ]
     },
     "metadata": {},
     "output_type": "display_data"
    }
   ],
   "source": [
    "plot_df = (pd.concat([counts_df.copy().assign(pos=counts_df.start), \n",
    "                      counts_df.copy().assign(pos=counts_df.end)])\n",
    "           .sort_values(['start', 'end'])\n",
    "          )\n",
    "plt.figure(figsize=(12, 4))\n",
    "plt.plot(plot_df.pos, plot_df.nrtrios) ;\n",
    "# plt.fill_between(plot_df.pos, plot_df.nrtrios)\n",
    "#plt.xlim(45000000, 55000000)"
   ]
  },
  {
   "cell_type": "code",
   "execution_count": 138,
   "id": "de55fb96-36fa-4fe2-b9dd-5467f60c79fd",
   "metadata": {},
   "outputs": [
    {
     "data": {
      "text/html": [
       "<div>\n",
       "<style scoped>\n",
       "    .dataframe tbody tr th:only-of-type {\n",
       "        vertical-align: middle;\n",
       "    }\n",
       "\n",
       "    .dataframe tbody tr th {\n",
       "        vertical-align: top;\n",
       "    }\n",
       "\n",
       "    .dataframe thead th {\n",
       "        text-align: right;\n",
       "    }\n",
       "</style>\n",
       "<table border=\"1\" class=\"dataframe\">\n",
       "  <thead>\n",
       "    <tr style=\"text-align: right;\">\n",
       "      <th></th>\n",
       "      <th>start</th>\n",
       "      <th>end</th>\n",
       "      <th>nrtrios</th>\n",
       "      <th>pos</th>\n",
       "    </tr>\n",
       "  </thead>\n",
       "  <tbody>\n",
       "    <tr>\n",
       "      <th>0</th>\n",
       "      <td>10100000</td>\n",
       "      <td>10200000</td>\n",
       "      <td>1</td>\n",
       "      <td>10100000</td>\n",
       "    </tr>\n",
       "    <tr>\n",
       "      <th>0</th>\n",
       "      <td>10100000</td>\n",
       "      <td>10200000</td>\n",
       "      <td>1</td>\n",
       "      <td>10200000</td>\n",
       "    </tr>\n",
       "    <tr>\n",
       "      <th>1</th>\n",
       "      <td>10200000</td>\n",
       "      <td>10300000</td>\n",
       "      <td>2</td>\n",
       "      <td>10200000</td>\n",
       "    </tr>\n",
       "    <tr>\n",
       "      <th>1</th>\n",
       "      <td>10200000</td>\n",
       "      <td>10300000</td>\n",
       "      <td>2</td>\n",
       "      <td>10300000</td>\n",
       "    </tr>\n",
       "    <tr>\n",
       "      <th>2</th>\n",
       "      <td>10300000</td>\n",
       "      <td>10400000</td>\n",
       "      <td>1</td>\n",
       "      <td>10300000</td>\n",
       "    </tr>\n",
       "    <tr>\n",
       "      <th>...</th>\n",
       "      <td>...</td>\n",
       "      <td>...</td>\n",
       "      <td>...</td>\n",
       "      <td>...</td>\n",
       "    </tr>\n",
       "    <tr>\n",
       "      <th>335</th>\n",
       "      <td>155600000</td>\n",
       "      <td>155700000</td>\n",
       "      <td>1</td>\n",
       "      <td>155700000</td>\n",
       "    </tr>\n",
       "    <tr>\n",
       "      <th>336</th>\n",
       "      <td>155700000</td>\n",
       "      <td>155800000</td>\n",
       "      <td>1</td>\n",
       "      <td>155700000</td>\n",
       "    </tr>\n",
       "    <tr>\n",
       "      <th>336</th>\n",
       "      <td>155700000</td>\n",
       "      <td>155800000</td>\n",
       "      <td>1</td>\n",
       "      <td>155800000</td>\n",
       "    </tr>\n",
       "    <tr>\n",
       "      <th>337</th>\n",
       "      <td>155800000</td>\n",
       "      <td>155900000</td>\n",
       "      <td>1</td>\n",
       "      <td>155800000</td>\n",
       "    </tr>\n",
       "    <tr>\n",
       "      <th>337</th>\n",
       "      <td>155800000</td>\n",
       "      <td>155900000</td>\n",
       "      <td>1</td>\n",
       "      <td>155900000</td>\n",
       "    </tr>\n",
       "  </tbody>\n",
       "</table>\n",
       "<p>676 rows × 4 columns</p>\n",
       "</div>"
      ],
      "text/plain": [
       "         start        end  nrtrios        pos\n",
       "0     10100000   10200000        1   10100000\n",
       "0     10100000   10200000        1   10200000\n",
       "1     10200000   10300000        2   10200000\n",
       "1     10200000   10300000        2   10300000\n",
       "2     10300000   10400000        1   10300000\n",
       "..         ...        ...      ...        ...\n",
       "335  155600000  155700000        1  155700000\n",
       "336  155700000  155800000        1  155700000\n",
       "336  155700000  155800000        1  155800000\n",
       "337  155800000  155900000        1  155800000\n",
       "337  155800000  155900000        1  155900000\n",
       "\n",
       "[676 rows x 4 columns]"
      ]
     },
     "execution_count": 138,
     "metadata": {},
     "output_type": "execute_result"
    }
   ],
   "source": [
    "plot_df"
   ]
  },
  {
   "cell_type": "code",
   "execution_count": 219,
   "id": "485fec5e-c839-4f01-9980-7534a007189b",
   "metadata": {},
   "outputs": [
    {
     "data": {
      "application/vnd.jupyter.widget-view+json": {
       "model_id": "258756743b2440e1b63316b73b5d1aeb",
       "version_major": 2,
       "version_minor": 0
      },
      "image/png": "[encoded data removed]",
      "text/html": [
       "\n",
       "            <div style=\"display: inline-block;\">\n",
       "                <div class=\"jupyter-widgets widget-label\" style=\"text-align: center;\">\n",
       "                    Figure\n",
       "                </div>\n",
       "                <img src='data:image/png;base64,iVBORw0KGgoAAAANSUhEUgAAAtAAAAFoCAYAAAB+JswZAAAAOXRFWHRTb2Z0d2FyZQBNYXRwbG90bGliIHZlcnNpb24zLjUuMiwgaHR0cHM6Ly9tYXRwbG90bGliLm9yZy8qNh9FAAAACXBIWXMAAAsTAAALEwEAmpwYAAAk1UlEQVR4nO3df3hV1Z3v8XcoQlAqKNqLV8TYcdwUOhWdwogzrWkVapVOKaAyIpjeyjVQaJFHio4/muLQIr+KgJgRxEDVQQuFKWqlMiUWi211BCz1ulotwYDCldaEgkb5ce4fCblBBbJIOJsk79fz8MDZe5+T71pnsfI5K+uc5GQyGSRJkiTVT6u0C5AkSZKaEgO0JEmSFMEALUmSJEUwQEuSJEkRDNCSJElSBAO0JEmSFMEALUmSJEUwQEuSJEkRDNCSJElSBAO0JEmSFMEALUmSJEUwQEuSJEkRDNCSJElSBAO0JEmSFMEALUmSJEUwQEuSJEkRDNCSJElSBAO0JEmSFMEALUmSJEUwQEuSJEkRDNCSJElSBAO0JEmSFMEALUmSJEUwQEuSJEkRDNCSJElSBAO0JEmSFMEALUmSJEUwQEuSJEkRDNCSJElSBAO0JEmSFMEALUmSJEUwQEuSJEkRDNCSJElSBAO0JEmSFMEALUmSJEUwQEuSJEkRDNCSJElSBAO0JEmSFMEALUmSJEUwQEuSJEkRDNCSJElShNZpF9ASJEnSFugFvAnsS7kcSZKkw/kYcAbwfAjhvbSLOR4ZoLOjF7Am7SIkSZIifA54Nu0ijkcG6Ox4E+Dhhx+mc+fOadciSZJ0SNu2bWPo0KFQk1/0YQboo5AkyXeBIuDvQggb63GXfQCdO3emS5cux7I0SZKkxuK200PwTYSRkiS5ELgIeD3tWiRJkpR9BugINW8GvBcYBWRSLkeSJEkpMEDHmQg8FELYlHYhkiRJSocBup6SJOlD9adpzE27FkmSJKXHAF1/lwDdgE1JkpQBXYCVSZL0S7UqSZIkZZWfwlFPIYTJwOQDt2tCdP96fgqHJEmSmglXoCVJkqQIrkAfpRBCXto1SJIkKftcgZYkSZIiGKAlSZKkCAZoSZIkKYIBWpIkSYpggJYkSZIiGKAlSZKkCAZoSZIkKYIBWpIkSYpggJYkSZIiGKAlSZKkCAZoSZIkKYIBWpIkSYpggJYkSZIiGKAlSZKkCAZoSZIkKYIBWpIkSYpggJYkSZIiGKAlSZKkCAZoSZIkKYIBWpIkSYpggJYkSZIitE67gKYkSZLlwDnAfmAXMCaEsD7NmiRJkpRdBug414cQKgGSJPkqsAC4MN2SJEmSlE1u4YhwIDzX6ED1SrQkSZJaEFegIyVJMh/oB+QAl6dcjtSsPfVcGc+s25J2GcfEJRd04fI+eWmXIUk6Cq5ARwoh3BBC6Ar8KzA17Xqk5uyZdVvYtLXyyBc2MZu2VjbbFwaS1BK4An2UQgg/SpLk/iRJOoUQ/px2PVJzdc6ZHfjBqH9Ku4xGdevcZ9MuQZLUAK5A11OSJO2TJDmrzu2vAH+p+SNJkqQWwhXo+jsJ+HGSJCcB+6gOzl8JIWTSLUuSJEnZZICupxDCduCitOuQJElSutzCIUmSJEUwQEuSJEkRDNCSJElSBAO0JEmSFMEALUmSJEUwQEuSJEkRDNCSJElSBAO0JEmSFMEALUmSJEUwQEuSJEkRDNCSJElSBAO0JEmSFMEALUmSJEUwQEuSJEkRDNCSJElSBAO0JEmSFMEALUmSJEUwQEuSJEkRDNCSJElSBAO0JEmSFMEALUmSJEVonXYBTUWSJJ2AHwF/A7wHvArcGEJ4K9XCJEmSlFWuQNdfBpgSQkhCCJ8BXgMmp1yTJEmSsswV6HoKIfwFKK1z6NfAyHSqkSRJUloM0EchSZJWVIfnn6ZdiyTp2HrquTKeWbcl7TKOiUsu6MLlffLSLkNqctzCcXRmA7uAOWkXIkk6tp5Zt4VNWyvTLqPRbdpa2WxfGEjHmivQkZIkmQb8LfCVEML+tOuRJB1755zZgR+M+qe0y2hUt859Nu0SpCbLAB0hSZJJwN8DV4YQ3ku7HkmSJGWfAbqekiTpAfwr8AdgbZIkAJtCCF9LtTBJkiRllQG6nkIIvwdy0q5DkiRJ6fJNhJIkSVIEA7QkSZIUwQAtSZIkRTBAS5IkSREM0JIkSVIEA7QkSZIUwQAtSZIkRTBAS5IkSREM0JIkSVIEA7QkSZIUwQAtSZIkRTBAS5IkSREM0JIkSVIEA7QkSZIUwQAtSZIkRTBAS5IkSREM0JIkSVIEA7QkSZIUwQAtSZIkRTBAS5IkSREM0JIkSVIEA7QkSZIUoXXaBTQlSZJMAwYBecDfhRA2pluRJEmSss0V6DjLgc8Dm1OuQ5IkSSlxBTpCCOFZgCRJ0i5FkiRJKTFAZ9GUh17gpJPLGvQYl1zQhcv75DVKPWo+nnqujGfWbUm7jEa3aWsl55zZIe0yjolNWyu5de6zaZfR6LI1R2VzzDsO1dLs3rkj7RKOe27haEI2ba1sliFJDffMui1s2lqZdhmN7pwzO3DJBV3SLqPRXXJBl2YZyLI5R2VzzDsOJX2QK9BZ9J3rPkuXLkc/CbtKoMM558wO/GDUP6Vdhurh8j55zfInSdmeoxzzDdNcx6EabsuWLax8MO0qjm+uQEuSJEkRDNARkiSZlSTJFqALsCpJkt+nXZMkSZKyyy0cEUII3wK+lXYdkiRJSo8r0JIkSVIEA7QkSZIUwQAtSZIkRTBAS5IkSREM0JIkSVIEA7QkSZIUwQAtSZIkRTBAS5IkSREM0JIkSVIEA7QkSZIUwQAtSZIkRTBAS5IkSREM0JIkSVIEA7QkSZIUwQAtSZIkRTBAS5IkSREM0JIkSVIEA7QkSZIUwQAtSZIkRTBAS5IkSREM0JIkSVKE1mkX0JQkSXIesBDoBPwZGB5C+GO6VUmSJCmbXIGOUwzcG0I4D7gX+PeU65EkSVKWGaDrKUmSTwAXAv9Rc+g/gAuTJDk9vaokSZKUbW7hqL+zgK0hhH0AIYR9SZK8UXP8rWwVsWlrJbfOfTZbX05NxKatlZxzZoe0y5CyNkc55iWlyQDdhFxyQZe0S9Bx6pwzOzg+lLpsjkHHvKQ0GaDrrxw4M0mSj9WsPn8M+J81x7Pi8j55XN4nL1tfTpKiOEdJaincA11PIYT/C6wH/qXm0L8A60IIWdu+IUmSpPS5Ah2nEFiYJMmdwNvA8JTrkSRJUpYZoCOEEF4B/iHtOiRJkpQeA3R2fAxg27ZtadchSZJ0WHXyysfSrON4ZoDOjjMAhg4dmnYdkiRJ9XUG8FraRRyPDNDZ8TzwOeBNYF/KtUiSJB3Ox6gOz8+nXcjxKieTyaRdgyRJktRk+DF2kiRJUgQDtCRJkhTBAC1JkiRF8E2E2eNmc0mS1FTkpF3A8cwVaEmSJCmCAVqSJEmKYICWJEmSIhigJUmSpAgGaEmSJCmCAVqSJEmKYICWJEmSIhigJUmSpAgGaEmSJCmCAVqSJEmKYICWJEmSIhigJUmSpAgGaEmSJClC67QL0LG3dOlSnn76aQDWrFnD7bffzurVq2nTpg3vvfceY8eOpUePHqxcuZJvfvObvPrqq5SWlrJx40ZGjx5NVVUVhYWFzJgxg3HjxrFv3z5OP/10ZsyYkXLL1BSVlJRw2mmn0b9/fwDWrVvHgAEDeOWVV2jXrh2LFy/mpz/9Kaeeeip9+/YlPz+fm266iU2bNrF69WoABg8ezJIlS9Jshg6hpKSEmTNnsn79evbs2cO5557L+PHjycvLY8eOHSxZsoROnTrRvXt3JkyYwOTJk3nttdfYtm0b9913H7t37+buu++mqqqK888/nwkTJrB8+XKeeuopysvLueOOO+jcuTNz5sxh2rRpAAwZMoTFixezevVqFi5cSPv27dm7dy933XUXp59+eso9ouNRSUkJjz32GF27duXMM89k4cKFXHHFFbzzzjt88Ytf5NprrwXguuuu49Of/jS33HILIYQPjc2CggLatm3Ljh07uPHGG+nXr1/KLVO2GKBbgEGDBjFo0CBeeOEFMpkML774IjfddBOf+tSnAHj//fepqKigtLSUnj17HvJxTj31VEpKSgC46qqr2L9/P61a+UMMNUxJSQkTJ05kyZIlDBs2jCVLlrBgwQJOPvnk2msWLFjA4MGDU6xSMZIkYe3atWzfvp0+ffocdK6wsJD+/fszZMgQAG655RYAli1bxurVqxk2bBgLFiwAYODAgQAMGDCAAQMGsG7dOn75y1/y1a9+9UNfM5PJMHPmTJYvX05OTg4A+/btO2ZtVNM3atSo2hfyGzZsYNasWQBcf/319O3bl71799K5c2deeuklMpkMSZJ8aGwCTJ8+nb/+9a9MmTLFAN2CmH5aiDfeeIPJkycza9YsNm/eXBueAdq0acOkSZMYP378Qfd59NFHKSwsZMyYMQcdX7NmDd26dTM8q8Gqqqr4y1/+wtChQ1mxYgUAkyZN4rbbbqOgoIA1a9akXKGOxuDBg1m6dCkrV678UKCYN28eF198cW1wAdi1axePPfYYAwYMqD22ePHig+47depUbrjhBi699FIAVq1aRWFhIYWFhezcuZO33nqLs846i5ycHJ588kmGDh3Kr3/962PbUDVpc+fOpbCwkNmzZx90vGfPnmzatImFCxcyZMgQ+vTpQ2lpae35D47N8ePH07dvX2688cZsla7jgAmoBaiqqmLMmDHMmTOHtm3bcvbZZxNCqD1fWVnJq6++ysSJE9mwYQMPPfQQANdccw3FxcUHTS6lpaUsX76ciRMnZr0dan6WLl3Km2++yejRowkh8Ic//IEkSZg9ezbz5s1j6tSpaZeoo9CuXTsAOnfu/KEX2iNGjGDVqlWsXLkSgJ07dzJy5EimTJnCxz/+caA6oGzevJnCwsLa+40fP56f/exnTJ8+HYDLLruM4uJiiouLOfnkkzn99NMpLy8nk8lwxRVX0LdvX95+++1sNFdN1KhRoyguLv7QItH69ev55Cc/yU9+8hPmz5/P888/z8KFC4GPHptTp07l4Ycf5tFHH81q/UqXWzhagKKiInbs2EFRUREAF198MVOnTiU3N5e9e/cyZswYli1bBsCWLVu47rrrDnq1fcD27du5+uqr+drXvsbIkSP54Q9/WPuNMj8/H+Aj71ef+ur+reZv7ty5PP7449x///3s3r2bdu3a8dJLL/HAAw9w6qmnUl5eTlVVFYMGDQKqf+y/bt06br75ZqZNm8bu3btrv4ENHTqUO+64g7KyMl5//XUymQxt27YlNzeXsWPHOq5SMmXKFHJycli0aNGHzp144on07t2bFStW8OCDD7Jnzx4mTZrE1VdfzSmnnMLNN99M//79GTduHDNmzGD+/Pls2LCByspKRowY8ZFfLycnh7Fjx1JQUEDHjh3ZtWtX7faQhsxPar4OzEOnnHIK69ev51vf+hbvvPMOX/rSl3j55Zf52te+xq233gpUzzMH5qC6Y/OA888/n+nTp7Nt2zaKi4v5t3/7N/bv38/nP/95x10zlZPJZNKuoaVo1h1tgFaa8vPzDdA6JAO0sqmoqKi5BOictAs4nrkCrQYrLS2lrKwMOLoQXFZWRl5eXqPWpJaloqKCiooKDiwI7N27l6qqqtpxqZatoqIi7RLUgpSVlbF//34ymQxlZWW13xfz8/NrX8yp6TNAq8Hy8/NrA/DRBGhXCNVQHTt2pGPHjuzcuZNMJkPr1q3Jzc31hZmA6vEhZUteXh6tWrVi//795OXl+T2umfJNhJIkSVIE90Bnjx0tSZKaCvdAH4Yr0JIkSVIEA7QkSZIUwQAtSZIkRTBAS5IkSREM0JIkSVIEA7QkSZIUwQAtSZIkRTBAS5IkSREM0JIkSVIEA7QkSZIUwQAtSZIkRTBAS5IkSREM0JIkSVIEA7QkSZIUwQAtSZIkRTBAS5IkSREM0JIkSVKE1mkXoKZt6dKlPP300wCsWbOG22+/ndWrV9OmTRvee+89xo4dy69//Wt+85vfsGXLFmbPnk15eTkbN25k9OjRVFVVUVhYSElJCbfddhs//vGPefHFF2nfvj3z58/nt7/9LW+++SZ33XUXPXv25Nxzz+Xyyy9n69at3HPPPXTt2jXlHpDUECUlJcycOZP169ezZ88ezj33XMaPH09eXh47duxgyZIldOrUie7duzNhwgQmT57Ma6+9xrZt27jvvvvYvXs3d999N1VVVZx//vlMmDCB5cuX89RTT1FeXs4dd9zBRRddlHYzJTUzBmg1yKBBgxg0aBAvvPACmUyGF198kZtuuolPfepTALz//vv06NGDb3zjGyxbtoyNGzfSoUOHj3ysSZMmsXXr1trbN9xwAzfccAPr1q1jxYoV9OzZk549ezJnzhwWLFjAhg0bDNBSM5AkCWvXrmX79u306dPnoHOFhYX079+fIUOGAHDLLbcAsGzZMlavXs2wYcNYsGABAAMHDgRgwIABDBgwgHXr1vHLX/7SAC2p0Rmg1WBvvPEGkydP5uGHH2bYsGG14RmgTZs2AIwfP541a9awZMkSXn31VR599FE2btzIvn37DvvYe/fuZdasWUycOBGADRs28O1vf5uXX36ZH/3oR8euUZKyZvDgwSxdupTdu3fTr18/3nnnndpz8+bN4/vf/z6jRo2qPbZr1y4ee+wx7r///tpjixcvpl+/frW3p06dyuLFi1m4cGF2GiGpRXEPtBqkqqqKMWPGMGfOHNq2bcvZZ59NCKH2/Pvvvw9UfzObNWsWDzzwAADXXHMNxcXFzJ49+5CPvWfPHkaNGsXYsWM566yzADj//PO55557WLRoEXffffcxbJmkbGnXrh0AnTt3plWrg78tjRgxglWrVrFy5UoAdu7cyciRI5kyZQof//jHgerwvHnzZgoLC2vvN378eH72s58xffr0LLVCUkviCrQapKioiB07dlBUVATAxRdfzNSpU8nNzWXv3r2MGTOGJ554gvLyct5++21uv/12tm3b9pGPNWPGDJ577jnGjh3LxIkTmTZtGn/4wx+47777uPTSS7nqqqtYv349o0eP5u2336agoOCo6q37t+qnqKiI0tJS8vPzD9l3x7pv6z5+fn4+ZWVlbN68me9+97s+n83AlClTyMnJYdGiRR86d+KJJ9K7d29WrFjBgw8+yJ49e5g0aRJXX301p5xyCjfffDP9+/dn3LhxzJgxg/nz57NhwwYqKysZMWJECq2R1NwZoNUgkydP/tCx4cOHH3S7R48eB93u1q0b+fn5AOTm5lJSUgLAuHHjGDduXO11M2bM+NBjv/rqqw2sWNLx5IMvhA/1wnjMmDEAfOUrX/nQuS1bthx0+4YbbmiU2iTpUHIymUzaNbQUdvQxUlpaSmlpab2vBWoDvOqntLSUsrIy8vLyDtl3x7pv6z5+SUkJFRUVVFZWcv3119e+CJMkNZqctAs4nrkCrSYvPz+/3qHNLRxH53jbwnEg0FdWVpKXl3dMvp4kSYfimwglSZKkCG7hyB47WpIkNRVu4TgMV6AlSZKkCAZoSZIkKYIBWpIkSYpggJYkSZIiGKAlSZKkCAZoSZIkKYIBWpIkSYpggJYkSZIiGKAlSZKkCAZoSZIkKYIBWpIkSYpggJYkSZIiGKAlSZKkCAZoSZIkKYIBWpIkSYpggJYkSZIitE67AEktR0lJCY899hhdu3alW7durFq1ik6dOtG9e3cmTJhAQUEBHTt2ZObMmfzud7+jV69e7Nixg9GjR5Obm0ubNm3IZDJMmzaN7du3M3r0aE477TTOO+88brnlFnr37k2vXr0oLy+nuLiYVatWMX/+fL7zne/Qv3//tJuveho4cCCPPPIIubm5/O53v+Oqq67iwgsv5NRTT6Vv37506NCBjRs3Mnr0aO6880527NhBTk4OeXl5jB8/HoAHHniARYsW8cwzz6TcGknNkQFaUlaNGjWK/v37U1JSQmFhIf3792fIkCG15999913effddHnroIS6//PLa49OmTaN9+/b8/Oc/p7i4mB49enDllVdy4403Mnz4cAC6du3KvffeyyOPPMJzzz3H8OHD2b9/f9bbqIYZNGgQS5cuZejQoSxYsIDu3btTXFzMySefDEBpaSkATzzxBGeccQYTJ04EYO/evQBs2rSJP//5z5x++ump1C+p+XMLh6Ssmjt3LoWFhVRWVjJv3jwuvvjig1aHD6w+vvvuu3Ts2PFD9+/VqxchBC644AIWL17MF7/4Rb7whS8AUF5ezre//W1+9atfHRS+1bQMGjSIZcuW8f777/P666/zgx/8gNtuu42CggLWrFlTe93vf/97evXqBUBRURHXXnst+/fvZ/r06YwdOzal6iW1BAZoSVk1atQoiouL6dChAyNGjGDVqlWsXLmy9vw//uM/cv/99/PP//zPH3n/3/72t3Tr1o0HH3yQ733ve/ziF7/giSeeAOCss87innvu4d577+Wkk07KSnvU+HJzcznjjDP44Q9/yIABA0iShNmzZzNv3jymTp1ae12PHj14/vnngeoAvX//fv70pz/x1ltv8Z3vfIcNGzbw5JNPptUMSc2YWzgkperEE0+kd+/erFixovbYs88+ywknnMBDDz1Ue+zmm2/mhBNOAKq3c/zxj3+kqKiIRx55hLy8vI987Mcff5yFCxfSrl072rdvX/uj/6KiomPVHDWSr3/96/Tr14/y8nLuvvtuysvLqaqqYtCgQbXXXHnlldx5552MHDmStm3bcs4553Duuefy6KOPArBlyxauuOIKAPLy8qioqKBnz56UlZWRl5dHfn4+4HiQFC8nk8mkXUNLYUdLKTsQlAxMLY8BWoqWk3YBxzO3cEhqMcrKyigrK0u7DKWgqqqKqqoqysrKqKiocCxIahC3cEhqMQ611UPNX25uLrm5ueTl5dWuQDseJB0tV6AlSZKkCO6Bzh47WpIkNRXugT4MV6AlSZKkCAZoSZIkKYIBWpIkSYpggJYkSZIiGKAlSZKkCAZoSZIkKYIBWpIkSYpggJYkSZIiGKAlSZKkCAZoSZIkKYIBWpIkSYpggJYkSZIiGKAlSZKkCAZoSZIkKYIBWpIkSYpggJYkSZIiGKAlSZKkCAZoSYpQUlJCz549AdizZw9nn30299xzD4MHD2b06NFMmTIFgNatW/Pf//3fAAwZMiStcnWMlJSU8PjjjwPwyiuvUFBQQM+ePSksLKSwsJDdu3fz5S9/mdGjR/PVr36Vl156iYKCAnbt2gVAcXExpaWlKbZAUkO0TrsASWpqkiRh7dq1bN++nT59+rBz506+8Y1v8OUvf7n2mssuu4zp06fzyCOPpFipsumyyy5j2rRptbdPOukk5syZw9q1a3n66adTrExSYzNAS1KkwYMHs3TpUnbv3k2/fv047bTTePbZZ1myZAm9e/fmxhtvpH379nzuc5/jySefTLtcHSNz587l8ccfp6KigtzcXFatWkVhYSEnnHACs2fPZvfu3YwdO5Z33nmH733ve9x6662MHTuW1q1b8/LLLzNx4sS0myDpKBmgJSlSu3btAOjcuTOtWrWiVatWTJo0CYArr7ySESNGADBixAiuueYaWrVyt1xzNGrUKPr3788rr7zC5MmTP3IFeubMmQfdZ+bMmbRv357i4uIsVyupMRmgJekoTJkyhZycHBYtWkRFRQUjR46kdevWdO/evTYwt27dmqFDhzJ+/Pij/jpFRUW1fxcVFVFSUsK2bdsAuOiii9xHexw5sAINcNddd9XrPgee39LSUsrKyigoKDjoOT9wvK6619Tn8Q+Mkfz8fEpKSgA+9JiS4higJSlCQUHBR96+7rrrDjq+ZMkSAAYOHMjAgQOzUZqyqO446NatW20wrevAGDig7jUHgrYvgKSmKSeTyaRdQ0thR0stXGlpaXRgqrt6WFpayvr162s/yeHTn/4069evb9wilVUFBQWUlZVRVlZGRUUFPXv2JD8/H/j/q9IVFRUH3afuNUdSdwU7Ly+P9evXk5ubW/tTDOkwctIu4HjmCrQkZUl+fn69g88BH9zCUVZWRlVVFQAdO3Zs3AKVdXl5eeTl5dUG3fz8/CNu4ah7zZF8cAuHWzekxuE7WyRJkqQIbuHIHjtakiQ1FW7hOAxXoCVJkqQIBmhJkiQpggFakiRJimCAliRJkiIYoCVJkqQIBmhJkiQpggFakiRJimCAliRJkiIYoCVJkqQIBmhJkiQpggFakiRJimCAliRJkiIYoCVJkqQIBmhJkiQpggFakiRJimCAliRJkiIYoCVJkqQIBmhJkiQpggFakiRJimCAliRJkiIYoCVJkqQIBmhJkiQpggFakiRJimCAliRJkiIYoCVJkqQIBmhJkiQpggFakiRJimCAliRJkiK0TruAliBJktb/9V//lXYZkiRJ9XLppZfmAVtCCHvTruV4ZIDOji6XXnpp2jVIkiTV1ybgHKAs5TqOSwbo7NhC9SCUJElqKrakXcDxKieTyaRdgyRJktRk+CZCSZIkKYIBWpIkSYpggJYkSZIiGKAlSZKkCAZoSZIkKYIBWpIkSYpggJYkSZIi+ItUUpIkSS7wQ+AyoAp4LoTwvw9xbQKsA+aGEG6uOfYxYBZwOZABJocQ5h/p3PGqEfrjDmAIsLfmz7+GEFbWnCsCRgFv1DzEr0II3zx2rWmYRuiLIg7R3hY6NhYBn6lz2WeAASGEnzbHsXG0z39zHRtH6I8WNW8coS8Od64ljo0WNW/UXHc1cAeQQ/XzfFkIYXtzmzcaiwE6PVOoHsjnhRAySZL8j4+6qGZw/juw/AOnhgLnAn8LdALWJUmyKoRQdoRzx6uG9sdvgekhhHeSJDkfeCZJkjNCCO/WnF90IFA1AQ3tCzh0e1vc2AghDK9zzfnAL4CVdS5pdmODo3v+m+3Y4ND90eLmDQ7fphY3b3CINre0eSNJks8CRcAXQwjbkiTpALxXc7q5zRuNwgCdgiRJ2gPDgS4hhAxACGH7IS6/BXgcaF/z54BrgHkhhP3AW0mSLAeuAqYe4dxxpzH648CqUY2XqH4F3Ykm9mtIG2lsHE6LGxsf8A3g4RDCe4c4f9yK7ItDaanzxkdqofPG0WhxY+MDWsK8cRMwLYSwreaayjrnms280ZgM0On4G+DPwHeTJPkCsAu4PYTwbN2LkiT5DPAl4AtU/1ilrq7A5jq3XwfOqse541Fj9Eddw4HXQgh1vwkOSZKkH7AN+G4I4bnGbEAjaqy+OFR7W+zYSJKkDXAt1T/GrKtZjY0aR/P8N8uxUaM+z3GznzdqHK5NLWreqHHY57gFzRvdgU1JkvyS6gWInwCTakJ3c5o3Go1vIkxHa+CTwLoQwmeBCcBPkiQ5+cAFSZKcAMwDCkMI+9IpM2sarT+SJLkEuAv4lzqHi4FzQgifofpV8X8mSdKp8ZvRKBqjL5pSe4+kMf+vDABeDyGsr3OsKfXVEfuiRlNqU0M0Wn+0hHmjxuHa1JTaeySN+X9lAC1j3mhN9T7vvsAlwJeBYdkstKkxQKdjM9VvWPkPgBDCb4AdwHl1rjmD6leOTyZJUgaMBUYkSXJ/zfnXgbPrXN8VKK/HueNRY/QHSZL0AR6i+o0e4cDxEMK2EMKemn8/TXVffPoYtqchGtwXR2hvixwbNf4XsKDugWY4Nhry/DfHsXHE57gFzRuHbVMLnDfq+xy3iHmj5rolIYT3Qgh/Bf4T6F1zrjnNG43GAJ2CEMIOYDXVr/RIkuQ84BPAq3WueT2EcFoIIS+EkAfMpHqf0YF3zv6Y6pDQKkmS06l+lby0HueOO43RH0mS9AIeBQaHEF6s+/hJkpxZ5989gTwgcBxqpL44XHtb3NiouV8X4HPAI3Ufv7mNjZrjR/v8N7uxUXP8kP3RkuaNmuOH64sWNW/UHD/sc9yS5g2q29gvSZKcmp/qXQpsqDnXbOaNxuQe6PQUAguSJJkO7AGGhRAqkiR5ErgzhPDCEe7/I+AfgD/W3J4YQvhTPc4drxraH3OBdsC/J0ly4NiwEMLvgO8nSfL3wD7g/Zrj245JKxpHQ/vicO1tiWMD4HpgRQjhLx843hzHxtE+/811bByuP1ravHG4NrXEeeNIz3FLmjcWA58FXgb2U/2JIw/U3L+5zRuNIieTyaRdgyRJktRkuIVDkiRJimCAliRJkiIYoCVJkqQIBmhJkiQpgp/CIUmS1MQlSTINGET1x+r9XQhh4xGuv5jqT6I54BPAthDChcesyGbEAC1JktT0LQfuAdbU5+IQwlqg54HbSZIsBz7q153rIxigJUmSmrgQwrMAdT7TnJrb/wBMBg78+u47QwhPfOCaTwD9gBuPfaXNg3ugJUmSmqEkSToCxcC1IYS/B/pT/YuDOn7g0uHAz0MI27NbYdPlCrQkSVLzdDFwDvCzOivTGeBcoO5vcf06cGt2S2vaDNCSJEnNUw7wUgjh84e6IEmSi4BOwJNZq6oZcAuHJElS87QW+NskSb5w4ECSJL2SJMmpc83/AhaFEPZmvbomLCeTyaRdgyRJkhogSZJZwECgM7AD+HMIoUeSJL2AqcApQBvgT8BXQgj7kyRpB7wJ9Akh/J+USm+SDNCSJElSBLdwSJIkSREM0JIkSVIEA7QkSZIUwQAtSZIkRTBAS5IkSREM0JIkSVIEA7QkSZIUwQAtSZIkRTBAS5IkSREM0JIkSVIEA7QkSZIUwQAtSZIkRTBAS5IkSRH+Hxa3wtW8yRxUAAAAAElFTkSuQmCC' width=720.0/>\n",
       "            </div>\n",
       "        "
      ],
      "text/plain": [
       "Canvas(toolbar=Toolbar(toolitems=[('Home', 'Reset original view', 'home', 'home'), ('Back', 'Back to previous …"
      ]
     },
     "metadata": {},
     "output_type": "display_data"
    }
   ],
   "source": [
    "plot_df = (pd.concat([counts_df.copy().assign(pos=counts_df.start), \n",
    "                      counts_df.copy().assign(pos=counts_df.end)])\n",
    "           .sort_values(['start', 'end'])\n",
    "          )\n",
    "\n",
    "ax = gi.gene_plot('chrX', 64000000, 66000000, assembly='hg19', figsize=(10,5))\n",
    "ax.plot(plot_df.pos, plot_df.nrtrios) ; "
   ]
  },
  {
   "cell_type": "markdown",
   "id": "8dad1704-34fb-4d24-b2e0-6f0f240e2d9f",
   "metadata": {},
   "source": [
    "# BSN gene\n",
    "\n",
    "# DOCK3 gene associated with ADHD"
   ]
  },
  {
   "cell_type": "code",
   "execution_count": null,
   "id": "ddc262a4-b2c9-49d3-8d2b-bed709098fbe",
   "metadata": {},
   "outputs": [],
   "source": []
  }
 ],
 "metadata": {
  "kernelspec": {
   "display_name": "Python 3",
   "language": "python",
   "name": "python3"
  },
  "language_info": {
   "codemirror_mode": {
    "name": "ipython",
    "version": 3
   },
   "file_extension": ".py",
   "mimetype": "text/x-python",
   "name": "python",
   "nbconvert_exporter": "python",
   "pygments_lexer": "ipython3",
   "version": "3.6.10"
  }
 },
 "nbformat": 4,
 "nbformat_minor": 5
}
